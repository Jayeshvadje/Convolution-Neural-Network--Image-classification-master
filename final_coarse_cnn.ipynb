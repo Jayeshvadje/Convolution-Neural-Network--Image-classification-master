{
 "cells": [
  {
   "cell_type": "code",
   "execution_count": 0,
   "metadata": {
    "colab": {},
    "colab_type": "code",
    "id": "ej7sVHLkJulp"
   },
   "outputs": [],
   "source": [
    "import numpy as np\n",
    "from keras.datasets import cifar100\n",
    "from keras.models import Sequential\n",
    "from keras.layers import Dense, Dropout, Activation, Flatten\n",
    "from keras.layers import Convolution2D, MaxPooling2D\n",
    "from keras.utils import np_utils\n",
    "from sklearn.model_selection import train_test_split\n",
    "import matplotlib.pyplot as plt\n",
    "import tensorflow as tf\n",
    "from keras.utils import to_categorical\n",
    "from keras import Sequential\n",
    "from keras.layers import Conv2D, MaxPooling2D, Flatten, Dropout, Dense,AveragePooling2D\n",
    "import keras\n",
    "from keras.optimizers import Adam,SGD\n",
    "from sklearn.model_selection import train_test_split\n",
    "from keras.preprocessing.image import ImageDataGenerator\n"
   ]
  },
  {
   "cell_type": "code",
   "execution_count": 0,
   "metadata": {
    "colab": {
     "base_uri": "https://localhost:8080/",
     "height": 36
    },
    "colab_type": "code",
    "id": "jUWcmBDk0xF7",
    "outputId": "145e4835-3589-4e4d-c7cc-36d30d01d8a0"
   },
   "outputs": [
    {
     "name": "stdout",
     "output_type": "stream",
     "text": [
      "Mounted at /content/drive\n"
     ]
    }
   ],
   "source": [
    "#from google.colab import drive\n",
    "#drive.mount('/content/drive')"
   ]
  },
  {
   "cell_type": "code",
   "execution_count": 0,
   "metadata": {
    "colab": {},
    "colab_type": "code",
    "id": "QOkxns2ISJ4Z"
   },
   "outputs": [],
   "source": [
    "#Data preparation - Splitting set\n",
    "\n",
    "batch_size=64\n",
    "\n",
    "# Load train- and test-data from CIFAR-100-dataset\n",
    "(x_train, y_train), (x_test, y_test) = cifar100.load_data(label_mode='coarse')\n",
    "\n",
    "# Get indices where class-label is 6(household furniture) and 7(insects) \n",
    "indices_train = np.where( (y_train == 6) | (y_train == 7))[0]\n",
    "indices_test = np.where((y_test == 6) | (y_test == 7))[0]\n",
    "\n",
    "# Reduce class labels\n",
    "y_train = np.array(y_train[indices_train])\n",
    "y_test = np.array(y_test[indices_test])\n",
    "# Reduce train- and test-data\n",
    "x_train = x_train[indices_train]\n",
    "x_test = x_test[indices_test]\n",
    "\n",
    "# Replace current class labels (6,7) to (0, 1); Needed for one-hot encoding\n",
    "y_train[np.array(y_train==6)]=0\n",
    "y_train[np.array(y_train==7)]=1                        \n",
    "y_test[np.array(y_test==6)]=0\n",
    "y_test[np.array(y_test==7)]=1  \n",
    "\n",
    "\n",
    "# Convert class labels to one-hot labels\n",
    "y_train = to_categorical(y_train, 2)\n",
    "y_test = to_categorical(y_test, 2)\n",
    "\n",
    "# Cast train- and test-data to float values\n",
    "x_train = x_train.astype('float32')\n",
    "x_test = x_test.astype('float32')\n",
    "\n",
    "# Normalize data from [0;255] to [0;1]\n",
    "x_train /= 255\n",
    "x_test /= 255\n",
    "\n",
    "# Split train-data for validation (size of validation-data equals size of test-data)\n",
    "x_train, x_valid, y_train, y_valid = train_test_split(x_train, y_train, test_size=0.20,stratify=y_train)\n",
    "\n"
   ]
  },
  {
   "cell_type": "code",
   "execution_count": 0,
   "metadata": {
    "colab": {},
    "colab_type": "code",
    "id": "VrLVU3lQl6xT"
   },
   "outputs": [],
   "source": [
    "#Data augmentation\n",
    "datagen = ImageDataGenerator(\n",
    "    #rotation_range=20,\n",
    "    #width_shift_range=0.1,\n",
    "    #height_shift_range=0.1,\n",
    "    horizontal_flip=True,\n",
    "    )\n",
    "datagen.fit(x_train)\n"
   ]
  },
  {
   "cell_type": "code",
   "execution_count": 0,
   "metadata": {
    "colab": {
     "base_uri": "https://localhost:8080/",
     "height": 580
    },
    "colab_type": "code",
    "id": "7feDkw81mHRz",
    "outputId": "bf3d13c5-c849-4912-cbee-0946fe3ccb75"
   },
   "outputs": [
    {
     "name": "stdout",
     "output_type": "stream",
     "text": [
      "_________________________________________________________________\n",
      "Layer (type)                 Output Shape              Param #   \n",
      "=================================================================\n",
      "h1_conv (Conv2D)             (None, 30, 30, 32)        896       \n",
      "_________________________________________________________________\n",
      "h1_pool (MaxPooling2D)       (None, 15, 15, 32)        0         \n",
      "_________________________________________________________________\n",
      "h1_drop (Dropout)            (None, 15, 15, 32)        0         \n",
      "_________________________________________________________________\n",
      "h2_conv (Conv2D)             (None, 13, 13, 32)        9248      \n",
      "_________________________________________________________________\n",
      "h2_pool (MaxPooling2D)       (None, 6, 6, 32)          0         \n",
      "_________________________________________________________________\n",
      "h2_drop (Dropout)            (None, 6, 6, 32)          0         \n",
      "_________________________________________________________________\n",
      "h3_conv (Conv2D)             (None, 4, 4, 32)          9248      \n",
      "_________________________________________________________________\n",
      "h3_pool (AveragePooling2D)   (None, 2, 2, 32)          0         \n",
      "_________________________________________________________________\n",
      "h3_drop (Dropout)            (None, 2, 2, 32)          0         \n",
      "_________________________________________________________________\n",
      "flatten_8 (Flatten)          (None, 128)               0         \n",
      "_________________________________________________________________\n",
      "h4_dense (Dense)             (None, 128)               16512     \n",
      "_________________________________________________________________\n",
      "out (Dense)                  (None, 2)                 258       \n",
      "=================================================================\n",
      "Total params: 36,162\n",
      "Trainable params: 36,162\n",
      "Non-trainable params: 0\n",
      "_________________________________________________________________\n"
     ]
    }
   ],
   "source": [
    "# CNN MODEL STRUCTURE FOR COARSE CLASSES\n",
    "# Create linear stack of layers\n",
    "model = Sequential()\n",
    "\n",
    "# Add first convolution\n",
    "model.add(Conv2D(filters=32,kernel_size=3,activation='elu',data_format=\"channels_last\",input_shape=(32, 32, 3),strides=1,padding=\"valid\",kernel_initializer=\"lecun_uniform\",name=\"h1_conv\"))\n",
    "\n",
    "# Add first max-pooling\n",
    "model.add(MaxPooling2D(pool_size=2,name=\"h1_pool\"))\n",
    "\n",
    "# Add first dropout\n",
    "model.add(Dropout(rate=0.2,name=\"h1_drop\"))\n",
    "\n",
    "# Add second convolution\n",
    "model.add(Conv2D(filters=32,kernel_size=3,activation='elu',strides=1,padding=\"valid\",kernel_initializer=\"lecun_uniform\",name=\"h2_conv\"))\n",
    "\n",
    "# Add second max-pooling\n",
    "model.add(MaxPooling2D(pool_size=2,name=\"h2_pool\"))\n",
    "\n",
    "# Add second dropout\n",
    "model.add(Dropout(rate=0.2,name=\"h2_drop\"))\n",
    "\n",
    "# Add third convolution\n",
    "model.add(Conv2D(filters=32,kernel_size=3,activation='elu',strides=1,padding=\"valid\",kernel_initializer=\"lecun_uniform\",name=\"h3_conv\"))\n",
    "\n",
    "# Add third max-pooling   -may need AveragePooling2D\n",
    "model.add(AveragePooling2D(pool_size=2,name=\"h3_pool\"))\n",
    "\n",
    "# Add third dropout\n",
    "model.add(Dropout(rate=0.2,name=\"h3_drop\"))\n",
    "\n",
    "# Reduce dimensionality\n",
    "model.add(Flatten())\n",
    "\n",
    "# Add fully-connected layer\n",
    "model.add(Dense(units=128,activation='elu',name=\"h4_dense\"))\n",
    "\n",
    "# Add fully-connected output layer\n",
    "model.add(Dense(units=2,activation='softmax',name=\"out\"))\n",
    "\n",
    "# Save model to file\n",
    "#model.save(\"model.h5\")\n",
    "model.summary()\n"
   ]
  },
  {
   "cell_type": "code",
   "execution_count": 0,
   "metadata": {
    "colab": {
     "base_uri": "https://localhost:8080/",
     "height": 1632
    },
    "colab_type": "code",
    "id": "I7GLDoRlmNxG",
    "outputId": "8a4cbf2c-93d9-430b-9a5a-7c87c55bb998"
   },
   "outputs": [
    {
     "name": "stdout",
     "output_type": "stream",
     "text": [
      "Epoch 1/10\n",
      "2000/2000 [==============================] - 25s 12ms/step - loss: 0.0853 - acc: 0.8833 - val_loss: 0.0619 - val_acc: 0.9180\n",
      "\n",
      "Epoch 00001: val_loss improved from inf to 0.06192, saving model to model23.h5\n",
      "Epoch 2/10\n",
      "2000/2000 [==============================] - 23s 12ms/step - loss: 0.0466 - acc: 0.9389 - val_loss: 0.0486 - val_acc: 0.9370\n",
      "\n",
      "Epoch 00002: val_loss improved from 0.06192 to 0.04864, saving model to model23.h5\n",
      "Epoch 3/10\n",
      "2000/2000 [==============================] - 23s 12ms/step - loss: 0.0333 - acc: 0.9566 - val_loss: 0.0559 - val_acc: 0.9280\n",
      "\n",
      "Epoch 00003: val_loss did not improve from 0.04864\n",
      "Epoch 4/10\n",
      "2000/2000 [==============================] - 23s 12ms/step - loss: 0.0259 - acc: 0.9672 - val_loss: 0.0478 - val_acc: 0.9440\n",
      "\n",
      "Epoch 00004: val_loss improved from 0.04864 to 0.04778, saving model to model23.h5\n",
      "\n",
      "Epoch 00004: ReduceLROnPlateau reducing learning rate to 0.0005000000237487257.\n",
      "Epoch 5/10\n",
      "2000/2000 [==============================] - 23s 12ms/step - loss: 0.0180 - acc: 0.9779 - val_loss: 0.0479 - val_acc: 0.9440\n",
      "\n",
      "Epoch 00005: val_loss did not improve from 0.04778\n",
      "Epoch 6/10\n",
      "2000/2000 [==============================] - 23s 12ms/step - loss: 0.0160 - acc: 0.9801 - val_loss: 0.0521 - val_acc: 0.9390\n",
      "\n",
      "Epoch 00006: val_loss did not improve from 0.04778\n",
      "Epoch 7/10\n",
      "2000/2000 [==============================] - 23s 12ms/step - loss: 0.0141 - acc: 0.9825 - val_loss: 0.0498 - val_acc: 0.9450\n",
      "\n",
      "Epoch 00007: val_loss did not improve from 0.04778\n",
      "\n",
      "Epoch 00007: ReduceLROnPlateau reducing learning rate to 0.0002500000118743628.\n",
      "Epoch 8/10\n",
      "2000/2000 [==============================] - 23s 12ms/step - loss: 0.0112 - acc: 0.9865 - val_loss: 0.0492 - val_acc: 0.9430\n",
      "\n",
      "Epoch 00008: val_loss did not improve from 0.04778\n",
      "Epoch 9/10\n",
      "2000/2000 [==============================] - 23s 12ms/step - loss: 0.0104 - acc: 0.9873 - val_loss: 0.0482 - val_acc: 0.9430\n",
      "\n",
      "Epoch 00009: val_loss did not improve from 0.04778\n",
      "Epoch 10/10\n",
      "2000/2000 [==============================] - 23s 12ms/step - loss: 0.0098 - acc: 0.9882 - val_loss: 0.0493 - val_acc: 0.9450\n",
      "\n",
      "Epoch 00010: val_loss did not improve from 0.04778\n",
      "\n",
      "Epoch 00010: ReduceLROnPlateau reducing learning rate to 0.0001250000059371814.\n",
      "Epoch 00010: early stopping\n",
      "Training time=  236.79488348960876\n",
      "1000/1000 [==============================] - 0s 73us/step\n",
      "\n",
      "Test result: 94.300 loss: 0.049\n"
     ]
    },
    {
     "data": {
      "image/png": "[encoded data removed]",
      "text/plain": [
       "<Figure size 576x396 with 1 Axes>"
      ]
     },
     "metadata": {
      "tags": []
     },
     "output_type": "display_data"
    },
    {
     "data": {
      "image/png": "[encoded data removed]",
      "text/plain": [
       "<Figure size 576x396 with 1 Axes>"
      ]
     },
     "metadata": {
      "tags": []
     },
     "output_type": "display_data"
    }
   ],
   "source": [
    "# COMPILE MODEL AND GET RESULTS\n",
    "from keras.callbacks import EarlyStopping, ModelCheckpoint,ReduceLROnPlateau,CSVLogger,LearningRateScheduler\n",
    "import keras.backend as K\n",
    "\n",
    "import time\n",
    "\n",
    "class TimeHistory(keras.callbacks.Callback):\n",
    "  def on_train_begin(self, logs={}):\n",
    "    self.start_time = time.time()\n",
    "  def on_train_end(self, logs={}):\n",
    "    self.result=(time.time()-self.start_time)\n",
    "    print(\"Training time= \",self.result)\n",
    "     \n",
    "time_history  = TimeHistory()\n",
    "\n",
    "# Define custom callback\n",
    "class lr_history(keras.callbacks.Callback):\n",
    "    def on_train_begin(self, logs={}):\n",
    "      self.lr = []\n",
    "    def on_epoch_begin(self, batch, logs={}):\n",
    "      self.lr.append(K.eval(self.model.optimizer.lr))\n",
    "      #print(K.eval(self.model.optimizer.lr))\n",
    "\n",
    "#lr = LearningRateScheduler(step_decay)\n",
    "learn_history =lr_history()\n",
    "checkpoint_callback = ModelCheckpoint('model23.h5', monitor='val_loss', verbose=1, save_best_only=True, mode='min')\n",
    "early_stopping_callback = EarlyStopping(monitor='loss', min_delta=0.01, patience=5, verbose=1, mode='auto')\n",
    "reduce_plateau = ReduceLROnPlateau(monitor='val_loss', factor=0.5, patience=3, verbose=1, mode='auto', min_delta=0.05, cooldown=0, min_lr=1e-10)\n",
    "csv_logger = CSVLogger('training.log')\n",
    "\n",
    "cb =[early_stopping_callback,checkpoint_callback,reduce_plateau,csv_logger,learn_history,time_history]\n",
    "#opt_rms = keras.optimizers.rmsprop(lr=0.001,decay=1e-6)\n",
    "optim = keras.optimizers.Adam(lr=0.001,decay=1e-6)\n",
    "#optim = keras.optimizers.SGD (lr=0.001,decay=1e-6,momentum=0.2)\n",
    "model.compile(loss='mean_squared_error', optimizer=optim , metrics=['accuracy'])\n",
    "results = model.fit_generator(datagen.flow(x_train, y_train,batch_size=batch_size),\\\n",
    "                    steps_per_epoch=2000,epochs=10,\\\n",
    "                    verbose=1,validation_data=(x_valid,y_valid),callbacks = cb,shuffle=True)\n",
    "#save to disk\n",
    "model_json = model.to_json()\n",
    "with open('model.json', 'w') as json_file:\n",
    "    json_file.write(model_json)\n",
    "model.save_weights('model2.h5') \n",
    " \n",
    "#testing\n",
    "scores = model.evaluate(x_test, y_test,batch_size=batch_size, verbose=1)\n",
    "print('\\nTest result: %.3f loss: %.3f' % (scores[1]*100,scores[0]))\n",
    "\n",
    "\n",
    "\n",
    "plt.plot(results.epoch,results.history['val_acc'],'-o',label='validation')\n",
    "plt.plot(results.epoch,results.history['acc'],'-o',label='training')\n",
    "\n",
    "plt.legend()\n",
    "plt.xlabel('epochs')\n",
    "plt.ylabel('accuracy')\n",
    "plt.grid(True)\n",
    "plt.show()\n",
    "\n",
    "# Plot training loss and validation loss per epoch\n",
    "plt.plot(results.epoch,results.history['val_loss'],'-o',label='validation loss')\n",
    "plt.plot(results.epoch,results.history['loss'],'-o',label='training loss')\n",
    "plt.legend()\n",
    "plt.xlabel('epochs')\n",
    "plt.ylabel('loss mse')\n",
    "plt.grid(True)\n",
    "plt.show()"
   ]
  },
  {
   "cell_type": "code",
   "execution_count": 0,
   "metadata": {
    "colab": {},
    "colab_type": "code",
    "id": "GQdo0qDHJuoo"
   },
   "outputs": [],
   "source": [
    "print((time_history.result))"
   ]
  },
  {
   "cell_type": "code",
   "execution_count": 0,
   "metadata": {
    "colab": {
     "base_uri": "https://localhost:8080/",
     "height": 468
    },
    "colab_type": "code",
    "id": "cguR5wX2jJyb",
    "outputId": "07b6aa30-1c61-483d-baf2-de0c69bde045"
   },
   "outputs": [
    {
     "name": "stdout",
     "output_type": "stream",
     "text": [
      "0.943\n"
     ]
    },
    {
     "data": {
      "image/png": "[encoded data removed]",
      "text/plain": [
       "<Figure size 504x432 with 2 Axes>"
      ]
     },
     "metadata": {
      "tags": []
     },
     "output_type": "display_data"
    }
   ],
   "source": [
    "from sklearn.metrics import confusion_matrix, accuracy_score\n",
    "\n",
    "cifar_classes = [\"household furniture\", \"insects\"]\n",
    "\n",
    "y_pred = model.predict(x_test, batch_size=batch_size)\n",
    "\n",
    "#print(y_test.shape)\n",
    "y_pred2 = np.argmax(y_pred,axis=1)\n",
    "#print(y_pred.shape)\n",
    "#y_test2=y_test\n",
    "y_test2 = np.argmax(y_test,axis=1)\n",
    "accuracy = (len(y_test2) - np.count_nonzero(y_pred2 - y_test2))/len(y_test2)\n",
    "print(accuracy)\n",
    "\n",
    "plt.figure(figsize=(7, 6))\n",
    "plt.title('Confusion matrix', fontsize=16)\n",
    "plt.imshow(confusion_matrix(y_test2,y_pred2))\n",
    "plt.xticks(np.arange(2), cifar_classes, rotation=45, fontsize=12)\n",
    "plt.yticks(np.arange(2), cifar_classes, fontsize=12)\n",
    "plt.colorbar()\n",
    "plt.show()\n",
    "#print(\"Test accuracy:\", accuracy_score(y_test, y_pred))"
   ]
  },
  {
   "cell_type": "code",
   "execution_count": 0,
   "metadata": {
    "colab": {
     "base_uri": "https://localhost:8080/",
     "height": 72
    },
    "colab_type": "code",
    "id": "2dkCYx5rO66U",
    "outputId": "f88e4053-5dfd-426e-8fb6-25becb9b3f45"
   },
   "outputs": [
    {
     "name": "stdout",
     "output_type": "stream",
     "text": [
      "[[469  31]\n",
      " [ 26 474]]\n",
      "['household furniture = 0.938', 'insects = 0.948']\n"
     ]
    }
   ],
   "source": [
    "cm =confusion_matrix(y_test2,y_pred2)\n",
    "print(cm)\n",
    "acc_per_label = cm.diagonal()/cm.sum(axis=1)\n",
    "acc_per_label_final = [cifar_classes[i]+ \" = \"+str(acc_per_label[i]) for i in range(0,2)]\n",
    "print(acc_per_label_final)"
   ]
  }
 ],
 "metadata": {
  "accelerator": "GPU",
  "colab": {
   "collapsed_sections": [],
   "name": "COARSE_PARADOTEO.ipynb",
   "provenance": [],
   "version": "0.3.2"
  },
  "kernelspec": {
   "display_name": "Python 3",
   "language": "python",
   "name": "python3"
  },
  "language_info": {
   "codemirror_mode": {
    "name": "ipython",
    "version": 3
   },
   "file_extension": ".py",
   "mimetype": "text/x-python",
   "name": "python",
   "nbconvert_exporter": "python",
   "pygments_lexer": "ipython3",
   "version": "3.6.7"
  }
 },
 "nbformat": 4,
 "nbformat_minor": 1
}
